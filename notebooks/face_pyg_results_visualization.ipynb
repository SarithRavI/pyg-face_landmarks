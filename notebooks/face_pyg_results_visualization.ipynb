{
 "cells": [
  {
   "cell_type": "code",
   "execution_count": null,
   "id": "ac87bb13",
   "metadata": {},
   "outputs": [],
   "source": [
    "import numpy as np\n",
    "import torch\n",
    "import pandas as pd\n",
    "import matplotlib.pyplot as plt"
   ]
  },
  {
   "cell_type": "code",
   "execution_count": null,
   "id": "ab89e7ef",
   "metadata": {},
   "outputs": [],
   "source": [
    "# import dataset\n",
    "image_dataset = np.load(\"C:/Users/MSI/Documents/pyg_face-landmarks/pyg_face/raw/face_images.npz\")['face_images']\n",
    "landmark_labels = pd.read_csv(\"C:/Users/MSI/Documents/pyg_face-landmarks/pyg_face/raw/facial_keypoints.csv\").to_numpy()"
   ]
  },
  {
   "cell_type": "code",
   "execution_count": null,
   "id": "87a52a83",
   "metadata": {},
   "outputs": [],
   "source": [
    "# import predicted dataset\n",
    "pred_dict_train = torch.load(\"C:/Users/MSI/Documents/pyg_face-landmarks/pred_landmarks_train.pt\")\n",
    "pred_dict_valid = torch.load(\"C:/Users/MSI/Documents/pyg_face-landmarks/pred_landmarks_valid.pt\")\n",
    "pred_dict_test = torch.load(\"C:/Users/MSI/Documents/pyg_face-landmarks/pred_landmarks_test.pt\")"
   ]
  },
  {
   "cell_type": "code",
   "execution_count": null,
   "id": "85731132",
   "metadata": {},
   "outputs": [],
   "source": [
    "pred_dict_train.keys()"
   ]
  },
  {
   "cell_type": "code",
   "execution_count": null,
   "id": "44c8c1ff",
   "metadata": {},
   "outputs": [],
   "source": [
    "trunc_size = sum([pred_dict_train[\"image_id\"].size(0),pred_dict_valid[\"image_id\"].size(0),pred_dict_test[\"image_id\"].size(0)])"
   ]
  },
  {
   "cell_type": "code",
   "execution_count": null,
   "id": "94ba4727",
   "metadata": {},
   "outputs": [],
   "source": [
    "trunc_dataset = image_dataset[:,:,:trunc_size]\n",
    "trunc_landmarks = landmark_labels[:trunc_size,:]"
   ]
  },
  {
   "cell_type": "code",
   "execution_count": null,
   "id": "edb1c4cc",
   "metadata": {
    "scrolled": false
   },
   "outputs": [],
   "source": [
    "pred_dataset = pred_dict_train\n",
    "pred_img_ids =pred_dataset[\"image_id\"].numpy().tolist()\n",
    "pred_landmarks =pred_dataset[\"landmarks_pred\"]\n",
    "Spic = image_dataset.shape[0] # image width\n",
    "fig, ax = plt.subplots(len(pred_img_ids),1,sharex=True,sharey=True,figsize=[1*10,len(pred_img_ids)*10])\n",
    "for inx,img in enumerate(pred_img_ids):\n",
    "    ax[inx].imshow(trunc_dataset[:,:,img], cmap='gray')\n",
    "#     ax[inx].scatter(trunc_landmarks[img][0::2]*Spic,trunc_landmarks[img][1::2]*Spic,marker='X',c='r',s=100)\n",
    "    ax[inx].scatter(pred_landmarks[inx][0::2],pred_landmarks[inx][1::2],marker='+',c='b',s=150)\n",
    "#     ax[inx].set_xticks(())\n",
    "#     ax[inx].set_yticks(())\n"
   ]
  }
 ],
 "metadata": {
  "kernelspec": {
   "display_name": "Python 3",
   "language": "python",
   "name": "python3"
  },
  "language_info": {
   "codemirror_mode": {
    "name": "ipython",
    "version": 3
   },
   "file_extension": ".py",
   "mimetype": "text/x-python",
   "name": "python",
   "nbconvert_exporter": "python",
   "pygments_lexer": "ipython3",
   "version": "3.9.6 (tags/v3.9.6:db3ff76, Jun 28 2021, 15:26:21) [MSC v.1929 64 bit (AMD64)]"
  },
  "vscode": {
   "interpreter": {
    "hash": "7631773df7a20f76ce0129852d6286a048d5c426a0098a673052d93f81596669"
   }
  }
 },
 "nbformat": 4,
 "nbformat_minor": 5
}
