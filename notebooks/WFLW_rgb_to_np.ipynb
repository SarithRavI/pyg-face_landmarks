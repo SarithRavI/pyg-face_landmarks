{
 "cells": [
  {
   "cell_type": "code",
   "execution_count": null,
   "id": "84a1a4d7",
   "metadata": {},
   "outputs": [],
   "source": [
    "# !pip install opencv-python\n",
    "\n",
    "import numpy as np\n",
    "import cv2\n",
    "import os\n",
    "from tqdm import tqdm\n",
    "import pickle"
   ]
  },
  {
   "cell_type": "code",
   "execution_count": null,
   "id": "ea6bf9af",
   "metadata": {
    "scrolled": true
   },
   "outputs": [],
   "source": [
    "wlfw_imgs_root = 'C:/Users/MSI/Documents/WLFW_images/WFLW_images'\n",
    "images_arr = []\n",
    "for folder in os.listdir(wlfw_imgs_root):\n",
    "    sub_dir_path = f'{wlfw_imgs_root}/{folder}'\n",
    "    for img in tqdm(os.listdir(sub_dir_path)):\n",
    "        img = cv2.imread(f'{sub_dir_path}/{img}',cv2.IMREAD_COLOR)\n",
    "        images_arr.append(img) # height, width, channel dim is preserved"
   ]
  },
  {
   "cell_type": "code",
   "execution_count": null,
   "id": "f2223c6e",
   "metadata": {},
   "outputs": [],
   "source": [
    "# save_root = 'C:/Users/MSI/Documents/WLFW-face_landmarks/raw'\n",
    "# with open(f\"{save_root}/face_images.pkl\", \"wb\") as fp:   #Pickling\n",
    "#     pickle.dump(images_arr[:50], fp)"
   ]
  },
  {
   "cell_type": "code",
   "execution_count": null,
   "id": "2a3383eb",
   "metadata": {},
   "outputs": [],
   "source": [
    "# -- full list creation -- \n",
    "\n",
    "save_root = 'C:/Users/MSI/Documents/WLFW-face_landmarks/raw'\n",
    "with open(f\"{save_root}/face_images.pkl\", \"wb\") as fp:   #Pickling\n",
    "    pickle.dump(images_arr, fp)"
   ]
  }
 ],
 "metadata": {
  "kernelspec": {
   "display_name": "Python 3",
   "language": "python",
   "name": "python3"
  },
  "language_info": {
   "codemirror_mode": {
    "name": "ipython",
    "version": 3
   },
   "file_extension": ".py",
   "mimetype": "text/x-python",
   "name": "python",
   "nbconvert_exporter": "python",
   "pygments_lexer": "ipython3",
   "version": "3.9.6 (tags/v3.9.6:db3ff76, Jun 28 2021, 15:26:21) [MSC v.1929 64 bit (AMD64)]"
  },
  "vscode": {
   "interpreter": {
    "hash": "7631773df7a20f76ce0129852d6286a048d5c426a0098a673052d93f81596669"
   }
  }
 },
 "nbformat": 4,
 "nbformat_minor": 5
}
